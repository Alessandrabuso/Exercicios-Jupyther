{
 "cells": [
  {
   "cell_type": "markdown",
   "metadata": {
    "slideshow": {
     "slide_type": "slide"
    }
   },
   "source": [
    "# Data Wrangling"
   ]
  },
  {
   "cell_type": "markdown",
   "metadata": {
    "slideshow": {
     "slide_type": "slide"
    }
   },
   "source": [
    "## Objetivo"
   ]
  },
  {
   "cell_type": "markdown",
   "metadata": {
    "slideshow": {
     "slide_type": "fragment"
    }
   },
   "source": [
    "Aprender os processos necessários para preparar uma base de dados de forma adequada para realizar análises no contexto de Ciência dos Dados. Esse curso cobre formas básicas para a obtenção de dados disponíveis na Web, passando pelos diversos formatos disponíveis."
   ]
  },
  {
   "cell_type": "markdown",
   "metadata": {
    "slideshow": {
     "slide_type": "slide"
    }
   },
   "source": [
    "## Tópicos"
   ]
  },
  {
   "cell_type": "markdown",
   "metadata": {
    "slideshow": {
     "slide_type": "subslide"
    }
   },
   "source": [
    "* Formato de arquivos\n",
    "    * HDF5\n",
    "    * Dados disopníveis na Web e via APIs\n",
    "* Manipulando base de dados\n",
    "    * Bases de Dados Mysql\n",
    "* Pré-processamento de dados\n",
    "    * Subsetting\n",
    "    * Ordenação\n",
    "    * Reshaping\n",
    "    * Merging\n",
    "* Valores Faltantes\n",
    "* Expressões Regulares\n",
    "* Manipulação de Datas\n",
    "* Formatação de Dados\n",
    "* Normalização"
   ]
  },
  {
   "cell_type": "markdown",
   "metadata": {
    "slideshow": {
     "slide_type": "slide"
    }
   },
   "source": [
    "## Duração"
   ]
  },
  {
   "cell_type": "markdown",
   "metadata": {
    "slideshow": {
     "slide_type": "fragment"
    }
   },
   "source": [
    "* Aula Teórica Presencial: 1 Semana (8h). Dois encontros de 4 horas.\n",
    "* Projetos individuais da disciplina: 32 h"
   ]
  },
  {
   "cell_type": "markdown",
   "metadata": {
    "slideshow": {
     "slide_type": "slide"
    }
   },
   "source": [
    "## Audiência"
   ]
  },
  {
   "cell_type": "markdown",
   "metadata": {
    "slideshow": {
     "slide_type": "fragment"
    }
   },
   "source": [
    "Estudantes Graduados em Ciência da Computação ou áreas correlatas."
   ]
  },
  {
   "cell_type": "markdown",
   "metadata": {
    "slideshow": {
     "slide_type": "slide"
    }
   },
   "source": [
    "## Bibliografia"
   ]
  },
  {
   "cell_type": "markdown",
   "metadata": {
    "slideshow": {
     "slide_type": "fragment"
    }
   },
   "source": [
    "Kazil, J., Jarmul, K., 2016. Data Wrangling with Python: Tips and Tools to Make Your Life Easier, 1st ed. O’Reilly Media."
   ]
  }
 ],
 "metadata": {
  "celltoolbar": "Slideshow",
  "kernelspec": {
   "display_name": "Python [conda env:jupyterteste] *",
   "language": "python",
   "name": "conda-env-jupyterteste-py"
  },
  "language_info": {
   "codemirror_mode": {
    "name": "ipython",
    "version": 3
   },
   "file_extension": ".py",
   "mimetype": "text/x-python",
   "name": "python",
   "nbconvert_exporter": "python",
   "pygments_lexer": "ipython3",
   "version": "3.7.4"
  }
 },
 "nbformat": 4,
 "nbformat_minor": 2
}
