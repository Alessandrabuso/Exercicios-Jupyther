{
 "cells": [
  {
   "cell_type": "markdown",
   "metadata": {},
   "source": [
    "Lorem ipsum \\**dolor sit amet, consectetur adipiscing elit. \\_Proin lacina malesuada lobortis. \\##Ut aliquam dictum arcu, vel elefend pellentesque molestie. \\-Nam eget augue purus. Ut ac risus libero."
   ]
  }
 ],
 "metadata": {
  "kernelspec": {
   "display_name": "Python [conda env:jupyterteste] *",
   "language": "python",
   "name": "conda-env-jupyterteste-py"
  },
  "language_info": {
   "codemirror_mode": {
    "name": "ipython",
    "version": 3
   },
   "file_extension": ".py",
   "mimetype": "text/x-python",
   "name": "python",
   "nbconvert_exporter": "python",
   "pygments_lexer": "ipython3",
   "version": "3.7.4"
  }
 },
 "nbformat": 4,
 "nbformat_minor": 2
}
