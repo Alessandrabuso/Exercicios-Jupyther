{
 "cells": [
  {
   "cell_type": "markdown",
   "metadata": {},
   "source": [
    "## Alessandra de Souza\n",
    "\n",
    "Formada em Engenharia Elétrica pela Universidade Tecnológica do Paraná.\n",
    "\n",
    "Desenvolveu trabalhos relacionados a Redes inteligentes e participou de competições de robótica a nível internacional."
   ]
  }
 ],
 "metadata": {
  "kernelspec": {
   "display_name": "Python 3",
   "language": "python",
   "name": "python3"
  },
  "language_info": {
   "codemirror_mode": {
    "name": "ipython",
    "version": 3
   },
   "file_extension": ".py",
   "mimetype": "text/x-python",
   "name": "python",
   "nbconvert_exporter": "python",
   "pygments_lexer": "ipython3",
   "version": "3.7.4"
  }
 },
 "nbformat": 4,
 "nbformat_minor": 2
}
